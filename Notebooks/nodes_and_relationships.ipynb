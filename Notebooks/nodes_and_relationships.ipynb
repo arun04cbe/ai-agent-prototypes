{
 "cells": [
  {
   "cell_type": "markdown",
   "id": "d927790a",
   "metadata": {},
   "source": [
    "## Visualize the node and relationship using Qdrant Vector DB"
   ]
  },
  {
   "cell_type": "code",
   "execution_count": 1,
   "id": "038b5fe7",
   "metadata": {},
   "outputs": [
    {
     "name": "stderr",
     "output_type": "stream",
     "text": [
      "d:\\Arun N\\Personal\\understanding-ai-agents\\.venv\\Lib\\site-packages\\tqdm\\auto.py:21: TqdmWarning: IProgress not found. Please update jupyter and ipywidgets. See https://ipywidgets.readthedocs.io/en/stable/user_install.html\n",
      "  from .autonotebook import tqdm as notebook_tqdm\n"
     ]
    }
   ],
   "source": [
    "from llama_index.embeddings.huggingface import HuggingFaceEmbedding\n",
    "\n",
    "EMBEDDING_MODEL_NAME = \"intfloat/multilingual-e5-large-instruct\"\n",
    "embed_model = HuggingFaceEmbedding(model_name=EMBEDDING_MODEL_NAME, trust_remote_code=True)"
   ]
  },
  {
   "cell_type": "code",
   "execution_count": 3,
   "id": "0003abdb",
   "metadata": {},
   "outputs": [
    {
     "data": {
      "text/plain": [
       "['Apple',\n",
       " 'Orange',\n",
       " 'Black',\n",
       " 'Realme',\n",
       " 'Red',\n",
       " 'Yellow',\n",
       " 'Soliton Technologies',\n",
       " 'Business']"
      ]
     },
     "execution_count": 3,
     "metadata": {},
     "output_type": "execute_result"
    }
   ],
   "source": [
    "text_data = [\"Apple\", \"Orange\", \"Black\", \"Realme\", \"Red\", \"Yellow\", \"Soliton Technologies\", \"Business\"]\n",
    "\n",
    "text_data"
   ]
  },
  {
   "cell_type": "code",
   "execution_count": 4,
   "id": "4d4d7da6",
   "metadata": {},
   "outputs": [
    {
     "name": "stdout",
     "output_type": "stream",
     "text": [
      "Number of chunks created: 8\n"
     ]
    }
   ],
   "source": [
    "from llama_index.core import Document\n",
    "\n",
    "chunks = []\n",
    "for text in text_data:\n",
    "    doc = Document(text=text)\n",
    "    doc.embedding = embed_model.get_text_embedding(text)\n",
    "    chunks.append(doc)\n",
    "\n",
    "print(f\"Number of chunks created: {len(chunks)}\")"
   ]
  },
  {
   "cell_type": "code",
   "execution_count": 5,
   "id": "89124361",
   "metadata": {},
   "outputs": [],
   "source": [
    "# Use Qdrant-DB from as a vector database\n",
    "from llama_index.vector_stores.qdrant import QdrantVectorStore\n",
    "import qdrant_client\n",
    "\n",
    "QDRANT_URL = \"http://localhost:6333\"\n",
    "COLLECTION_NAME = \"Nodes_AND_Relationships\"\n",
    "\n",
    "def get_vector_store():\n",
    "    client = qdrant_client.QdrantClient(\n",
    "        url=QDRANT_URL,\n",
    "\n",
    "    )\n",
    "\n",
    "    vector_store = QdrantVectorStore(\n",
    "        client=client,\n",
    "        collection_name=COLLECTION_NAME,\n",
    "    )\n",
    "    return vector_store\n",
    "\n",
    "qdrant_vector_store = get_vector_store()"
   ]
  },
  {
   "cell_type": "code",
   "execution_count": 6,
   "id": "933594fc",
   "metadata": {},
   "outputs": [],
   "source": [
    "# Add the chunks to the Qdrant vector store\n",
    "\n",
    "_ = qdrant_vector_store.add(\n",
    "    nodes=chunks,\n",
    "    show_progress=True,\n",
    ")"
   ]
  },
  {
   "cell_type": "markdown",
   "id": "d799c81c",
   "metadata": {},
   "source": [
    "#### Change the Query Below and test with different queries\n",
    "\n",
    "Example Queries\n",
    "- Newton\n",
    "- Software\n",
    "- Samsung\n",
    "- India\n",
    "- Blue"
   ]
  },
  {
   "cell_type": "code",
   "execution_count": 19,
   "id": "c7e31bbf",
   "metadata": {},
   "outputs": [
    {
     "name": "stdout",
     "output_type": "stream",
     "text": [
      "1024\n"
     ]
    }
   ],
   "source": [
    "from llama_index.core import QueryBundle\n",
    "\n",
    "query = \"India\"\n",
    "\n",
    "query_embeddings = embed_model.get_text_embedding(query)\n",
    "\n",
    "query_bundle = QueryBundle(query_str=\"\", embedding=query_embeddings)\n",
    "\n",
    "print(len(query_embeddings))"
   ]
  },
  {
   "cell_type": "code",
   "execution_count": 20,
   "id": "a1e553ed",
   "metadata": {},
   "outputs": [],
   "source": [
    "from llama_index.core import VectorStoreIndex\n",
    "\n",
    "SIMILARITY_TOP_K = 3\n",
    "\n",
    "vector_store_index = VectorStoreIndex.from_vector_store(\n",
    "    vector_store=qdrant_vector_store, embed_model=embed_model\n",
    ")\n",
    "\n",
    "qdrant_retriever = vector_store_index.as_retriever(similarity_top_k=SIMILARITY_TOP_K)\n",
    "retrieved_nodes = qdrant_retriever.retrieve(query_bundle)"
   ]
  },
  {
   "cell_type": "code",
   "execution_count": 21,
   "id": "f0ac74a2",
   "metadata": {},
   "outputs": [
    {
     "name": "stdout",
     "output_type": "stream",
     "text": [
      "Retrieved Node: Realme\n",
      "\n",
      "Similarity Score: 0.848204\n",
      "\n",
      "--------------------------------------------------------------------------------\n",
      "Retrieved Node: Red\n",
      "\n",
      "Similarity Score: 0.8455509\n",
      "\n",
      "--------------------------------------------------------------------------------\n",
      "Retrieved Node: Black\n",
      "\n",
      "Similarity Score: 0.840017\n",
      "\n",
      "--------------------------------------------------------------------------------\n"
     ]
    }
   ],
   "source": [
    "for node in retrieved_nodes:\n",
    "    print(f\"Retrieved Node: {node.text}\\n\")\n",
    "    print(f\"Similarity Score: {node.score}\\n\")\n",
    "    print(\"-\" * 80)"
   ]
  },
  {
   "cell_type": "code",
   "execution_count": null,
   "id": "a5ffb30f",
   "metadata": {},
   "outputs": [],
   "source": []
  }
 ],
 "metadata": {
  "kernelspec": {
   "display_name": "understanding-ai-agents",
   "language": "python",
   "name": "python3"
  },
  "language_info": {
   "codemirror_mode": {
    "name": "ipython",
    "version": 3
   },
   "file_extension": ".py",
   "mimetype": "text/x-python",
   "name": "python",
   "nbconvert_exporter": "python",
   "pygments_lexer": "ipython3",
   "version": "3.12.4"
  }
 },
 "nbformat": 4,
 "nbformat_minor": 5
}
